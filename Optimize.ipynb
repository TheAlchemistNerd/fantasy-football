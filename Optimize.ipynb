{
 "cells": [
  {
   "cell_type": "markdown",
   "metadata": {},
   "source": [
    "# Optimize Season Points\n",
    " - Assume every player will perform and do exactly the same as last year\n",
    " - yup... very strong assumption\n",
    " - Cost of 11 players must be below £100\n",
    " - Only 1 GK\n",
    " - 3 to 5 DEF\n",
    " - 3 to 5 MID\n",
    " - 1 to 3 STR\n",
    " - Captain gets X2 points\n",
    " - Player with most points is captain throughout the whole year"
   ]
  },
  {
   "cell_type": "code",
   "execution_count": 1,
   "metadata": {},
   "outputs": [],
   "source": [
    "import pandas as pd\n",
    "import numpy as np\n",
    "from scipy.optimize import minimize\n",
    "import matplotlib.pyplot as plt\n",
    "import matplotlib.style as style\n",
    "import seaborn as sns\n",
    "\n",
    "sns.set()\n",
    "style.use('fivethirtyeight')\n",
    "%matplotlib inline"
   ]
  },
  {
   "cell_type": "code",
   "execution_count": 2,
   "metadata": {
    "collapsed": true
   },
   "outputs": [],
   "source": [
    "data = pd.read_csv(\"data/clean-data.csv\")"
   ]
  },
  {
   "cell_type": "code",
   "execution_count": 3,
   "metadata": {},
   "outputs": [],
   "source": [
    "N = data.shape[0]\n",
    "POINTS = np.array(data.Points)\n",
    "CALC_POINTS = np.array(data['Calc Points'])\n",
    "COST = np.array(data.Cost)\n",
    "POSITION = np.array(data.Position)"
   ]
  },
  {
   "cell_type": "code",
   "execution_count": 4,
   "metadata": {},
   "outputs": [],
   "source": [
    "def random_walk(n):\n",
    "    return np.random.rand(11) * n\n",
    "\n",
    "def to_int(x):\n",
    "    return (x - 0.5).astype(int)\n",
    "\n",
    "def objective(x):\n",
    "    x_int = to_int(x)\n",
    "    points11 = POINTS[x_int]\n",
    "    return -(points11.sum() + points11.max())\n",
    "\n",
    "def objective_calc(x):\n",
    "    x_int = to_int(x)\n",
    "    points11 = CALC_POINTS[x_int]\n",
    "    return -(points11.sum() + points11.max())\n",
    "\n",
    "def constraint_cost(x):\n",
    "    # Cost is less than £100\n",
    "    # -(sum(cost) - 100) >= 0\n",
    "    x_int = to_int(x)\n",
    "    return -(COST[x_int].sum() - 100.0)\n",
    "\n",
    "def constraint_gk(x):\n",
    "    # Only 1 GK\n",
    "    # count('GK') - 1 = 0\n",
    "    x_int = to_int(x)\n",
    "    return (POSITION[x_int] == 'GK').sum() - 1\n",
    "    \n",
    "def constraint_def_3(x):\n",
    "    # 3to5 DEF\n",
    "    # count('DEF') - 3 >= 0 \n",
    "    x_int = to_int(x)\n",
    "    return (POSITION[x_int] == 'DEF').sum() - 3\n",
    "\n",
    "def constraint_def_5(x):\n",
    "    # 3to5 DEF\n",
    "    # -(count('DEF') - 5) >= 0 \n",
    "    x_int = to_int(x)\n",
    "    return -((POSITION[x_int] == 'DEF').sum() - 5)\n",
    "\n",
    "def constraint_mid_3(x):\n",
    "    # 3to5 MID\n",
    "    # count('MID') - 3 >= 0 \n",
    "    x_int = to_int(x)\n",
    "    return (POSITION[x_int] == 'MID').sum() - 3\n",
    "\n",
    "def constraint_mid_5(x):\n",
    "    # 3to5 MID\n",
    "    # -(count('MID') - 5) >= 0 \n",
    "    x_int = to_int(x)\n",
    "    return -((POSITION[x_int] == 'MID').sum() - 5)\n",
    "\n",
    "def constraint_str_1(x):\n",
    "    # 1to3 STR\n",
    "    # count('STR') - 1 >= 0 \n",
    "    x_int = to_int(x)\n",
    "    return (POSITION[x_int] == 'STR').sum() - 1\n",
    "\n",
    "def constraint_str_3(x):\n",
    "    # 1to3 STR\n",
    "    # -(count('STR') - 3) >= 0 \n",
    "    x_int = to_int(x)\n",
    "    return -((POSITION[x_int] == 'STR').sum() - 3)\n",
    "\n",
    "def constraint_all(x):\n",
    "    test = [constraint_cost(x) >= 0,\n",
    "            constraint_gk(x) == 0,\n",
    "            constraint_def_3(x) >= 0,\n",
    "            constraint_def_5(x) >= 0,\n",
    "            constraint_mid_3(x) >= 0,\n",
    "            constraint_mid_5(x) >= 0,\n",
    "            constraint_str_1(x) >= 0,\n",
    "            constraint_str_3(x) >= 0]\n",
    "    return(all(test))"
   ]
  },
  {
   "cell_type": "markdown",
   "metadata": {},
   "source": [
    "## Optimization Strategy 1\n",
    " - Randomly pick 11 players in the lineup\n",
    " - Repeat 10,000 times\n",
    " - Filter lineup with correct constraints\n",
    " - Pick lineup with max points"
   ]
  },
  {
   "cell_type": "code",
   "execution_count": 5,
   "metadata": {},
   "outputs": [],
   "source": [
    "np.random.seed(0)\n",
    "lineup = []\n",
    "total_points = []\n",
    "constraint_test = []\n",
    "for i in range(10000):\n",
    "    x = random_walk(N)\n",
    "    lineup.append(x)\n",
    "    total_points.append(-objective(x))\n",
    "    constraint_test.append(constraint_all(x))"
   ]
  },
  {
   "cell_type": "code",
   "execution_count": 36,
   "metadata": {
    "collapsed": true
   },
   "outputs": [],
   "source": [
    "trial_data = pd.DataFrame()\n",
    "trial_data['Lineup'] = lineup\n",
    "trial_data['Points'] = total_points\n",
    "trial_data['Constraints'] = constraint_test\n",
    "trial_data = (trial_data\n",
    "              .sort_values('Points', ascending=True)\n",
    "              .reset_index(drop=True))\n",
    "trial_data['Trials'] = range(10000)"
   ]
  },
  {
   "cell_type": "code",
   "execution_count": 37,
   "metadata": {},
   "outputs": [
    {
     "data": {
      "image/png": "[encoded data removed]",
      "text/plain": [
       "<Figure size 432x288 with 1 Axes>"
      ]
     },
     "metadata": {},
     "output_type": "display_data"
    }
   ],
   "source": [
    "cmap = sns.cubehelix_palette(rot=-.2, as_cmap=True)\n",
    "ax = sns.scatterplot(x=\"Trials\", y=\"Points\",\n",
    "                     hue=\"Constraints\",\n",
    "                     hue_order=[True, False],\n",
    "                     data=trial_data)"
   ]
  },
  {
   "cell_type": "code",
   "execution_count": 49,
   "metadata": {},
   "outputs": [],
   "source": [
    "max_index = (trial_data\n",
    "             .query('Constraints')\n",
    "             ['Points']\n",
    "             .idxmax())\n",
    "player_index = to_int(trial_data.Lineup[max_index])"
   ]
  },
  {
   "cell_type": "code",
   "execution_count": 50,
   "metadata": {},
   "outputs": [],
   "source": [
    "FINAL_POINTS = trial_data.iloc[max_index, 1]\n",
    "PASS_CONSTRAINTS = trial_data.iloc[max_index, 2]\n",
    "FINAL_XI = (data\n",
    "            .iloc[player_index,:]\n",
    "            [['Player', 'Position', 'Cost', 'Points']]\n",
    "            .sort_values(\"Position\")\n",
    "            .reset_index(drop=True))\n",
    "FINAL_COST = FINAL_XI['Cost'].sum()"
   ]
  },
  {
   "cell_type": "code",
   "execution_count": 54,
   "metadata": {},
   "outputs": [
    {
     "name": "stdout",
     "output_type": "stream",
     "text": [
      "Spend £97.7 for expected total points 1831.0 and passed all constraints True\n"
     ]
    },
    {
     "data": {
      "text/html": [
       "<div>\n",
       "<style scoped>\n",
       "    .dataframe tbody tr th:only-of-type {\n",
       "        vertical-align: middle;\n",
       "    }\n",
       "\n",
       "    .dataframe tbody tr th {\n",
       "        vertical-align: top;\n",
       "    }\n",
       "\n",
       "    .dataframe thead th {\n",
       "        text-align: right;\n",
       "    }\n",
       "</style>\n",
       "<table border=\"1\" class=\"dataframe\">\n",
       "  <thead>\n",
       "    <tr style=\"text-align: right;\">\n",
       "      <th></th>\n",
       "      <th>Player</th>\n",
       "      <th>Position</th>\n",
       "      <th>Cost</th>\n",
       "      <th>Points</th>\n",
       "    </tr>\n",
       "  </thead>\n",
       "  <tbody>\n",
       "    <tr>\n",
       "      <th>0</th>\n",
       "      <td>LOVREN, D</td>\n",
       "      <td>DEF</td>\n",
       "      <td>8.7</td>\n",
       "      <td>151.0</td>\n",
       "    </tr>\n",
       "    <tr>\n",
       "      <th>1</th>\n",
       "      <td>BERTRAND, R</td>\n",
       "      <td>DEF</td>\n",
       "      <td>8.2</td>\n",
       "      <td>117.0</td>\n",
       "    </tr>\n",
       "    <tr>\n",
       "      <th>2</th>\n",
       "      <td>DANILO</td>\n",
       "      <td>DEF</td>\n",
       "      <td>8.4</td>\n",
       "      <td>126.0</td>\n",
       "    </tr>\n",
       "    <tr>\n",
       "      <th>3</th>\n",
       "      <td>SHAW, L</td>\n",
       "      <td>DEF</td>\n",
       "      <td>7.8</td>\n",
       "      <td>55.0</td>\n",
       "    </tr>\n",
       "    <tr>\n",
       "      <th>4</th>\n",
       "      <td>MORAES, E</td>\n",
       "      <td>GK</td>\n",
       "      <td>7.9</td>\n",
       "      <td>188.0</td>\n",
       "    </tr>\n",
       "    <tr>\n",
       "      <th>5</th>\n",
       "      <td>DAVIES, T</td>\n",
       "      <td>MID</td>\n",
       "      <td>7.6</td>\n",
       "      <td>72.0</td>\n",
       "    </tr>\n",
       "    <tr>\n",
       "      <th>6</th>\n",
       "      <td>BRADY, R</td>\n",
       "      <td>MID</td>\n",
       "      <td>7.3</td>\n",
       "      <td>51.0</td>\n",
       "    </tr>\n",
       "    <tr>\n",
       "      <th>7</th>\n",
       "      <td>PRITCHARD, A</td>\n",
       "      <td>MID</td>\n",
       "      <td>7.3</td>\n",
       "      <td>42.0</td>\n",
       "    </tr>\n",
       "    <tr>\n",
       "      <th>8</th>\n",
       "      <td>FIRMINO, R</td>\n",
       "      <td>STR</td>\n",
       "      <td>12.2</td>\n",
       "      <td>193.0</td>\n",
       "    </tr>\n",
       "    <tr>\n",
       "      <th>9</th>\n",
       "      <td>AUSTIN, C</td>\n",
       "      <td>STR</td>\n",
       "      <td>9.4</td>\n",
       "      <td>80.0</td>\n",
       "    </tr>\n",
       "    <tr>\n",
       "      <th>10</th>\n",
       "      <td>SALAH, M</td>\n",
       "      <td>STR</td>\n",
       "      <td>12.9</td>\n",
       "      <td>378.0</td>\n",
       "    </tr>\n",
       "  </tbody>\n",
       "</table>\n",
       "</div>"
      ],
      "text/plain": [
       "          Player Position  Cost  Points\n",
       "0      LOVREN, D      DEF   8.7   151.0\n",
       "1    BERTRAND, R      DEF   8.2   117.0\n",
       "2         DANILO      DEF   8.4   126.0\n",
       "3        SHAW, L      DEF   7.8    55.0\n",
       "4      MORAES, E       GK   7.9   188.0\n",
       "5      DAVIES, T      MID   7.6    72.0\n",
       "6       BRADY, R      MID   7.3    51.0\n",
       "7   PRITCHARD, A      MID   7.3    42.0\n",
       "8     FIRMINO, R      STR  12.2   193.0\n",
       "9      AUSTIN, C      STR   9.4    80.0\n",
       "10      SALAH, M      STR  12.9   378.0"
      ]
     },
     "execution_count": 54,
     "metadata": {},
     "output_type": "execute_result"
    }
   ],
   "source": [
    "print((\"Spend £{} for expected total points {} \"\n",
    "      + \"and passed all constraints {}\")\n",
    "      .format(FINAL_COST, FINAL_POINTS, PASS_CONSTRAINTS))\n",
    "FINAL_XI"
   ]
  },
  {
   "cell_type": "code",
   "execution_count": null,
   "metadata": {
    "collapsed": true
   },
   "outputs": [],
   "source": []
  }
 ],
 "metadata": {
  "kernelspec": {
   "display_name": "Python 3",
   "language": "python",
   "name": "python3"
  },
  "language_info": {
   "codemirror_mode": {
    "name": "ipython",
    "version": 3
   },
   "file_extension": ".py",
   "mimetype": "text/x-python",
   "name": "python",
   "nbconvert_exporter": "python",
   "pygments_lexer": "ipython3",
   "version": "3.6.3"
  }
 },
 "nbformat": 4,
 "nbformat_minor": 2
}
